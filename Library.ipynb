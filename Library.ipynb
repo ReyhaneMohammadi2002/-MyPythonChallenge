{
 "cells": [
  {
   "cell_type": "markdown",
   "metadata": {},
   "source": [
    "ریحانه محمدی\n",
    "\n",
    "در یک کتابخانه کاربر میتواند با وارد کردن شماره کاربری خود\n",
    "\n",
    "1-لیست کتاب هایی که به امانت برده مشاهده کند\n",
    "\n",
    "2- کتاب جدیدی رو به امانت ببره(فقط میتواند 5 کتاب به امانت ببرد)\n",
    "\n",
    "\n",
    "3- کتابی رو به کتابخونه برگردونه"
   ]
  },
  {
   "cell_type": "code",
   "execution_count": 2,
   "metadata": {},
   "outputs": [
    {
     "name": "stdout",
     "output_type": "stream",
     "text": [
      "What do you want to do?\n",
      "        1. View your borrowed books list\n",
      "        2. Borrow a book\n",
      "        3. Return a book\n",
      "        4. Exit\n",
      "        \n",
      "Exiting the library system.\n"
     ]
    }
   ],
   "source": [
    "user_id=input(\"please enter your library ID : \")\n",
    "user_books=[]\n",
    "\n",
    "if user_id.isdigit(): # #and exist in database\n",
    "        \n",
    "        while(True):\n",
    "            print(\"\"\"What do you want to do?\n",
    "        1. View your borrowed books list\n",
    "        2. Borrow a book\n",
    "        3. Return a book\n",
    "        4. Exit\n",
    "        \"\"\")\n",
    "            user_choice = input(\"Enter your choice (1-4): \").strip()\n",
    "            if user_choice not in (\"1\", \"2\", \"3\", \"4\"):\n",
    "               print(\"Invalid input. Please enter a number between 1 and 4.\\n\")\n",
    "               continue\n",
    "            else:\n",
    "                 if user_choice==\"1\": #show the list\n",
    "                      if not user_books: #len(user_books)==0\n",
    "                         print(\"Your borrowed list is empty.\\n\")\n",
    "                      else:\n",
    "                         print(\"Your borrowed books list:\")\n",
    "                         for i in range(len(user_books)):\n",
    "                             print(f\"{i+1}- {user_books[i]}\\n\")\n",
    "                      continue      \n",
    "                      \n",
    "                 elif user_choice==\"2\": #borrow a book\n",
    "                     if len(user_books) == 5:\n",
    "                        print(\"Sorry, you cannot borrow more than 5 books at a time.\\n\")\n",
    "                     else:\n",
    "                        book_name = input(\"Enter the name of the book you want to borrow: \").title().strip()\n",
    "                        user_books.append(book_name)\n",
    "                        print(f\"You have successfully borrowed {book_name}.\\n\")\n",
    "                     continue\n",
    "                 \n",
    "                 elif user_choice==\"3\": # return a book\n",
    "                     if not user_books:\n",
    "                        print(\"Your borrowed list is empty. You cannot return any books.\\n\")\n",
    "                     else:\n",
    "                        book_name = input(\"Enter the name of the book you want to return: \").title().strip()\n",
    "                        if book_name in user_books:\n",
    "                           user_books.remove(book_name)\n",
    "                           print(f\"You have successfully returned {book_name}.\\n\")\n",
    "                        else:\n",
    "                           print(f\"The book '{book_name}' is not in your borrowed list.\\n\")\n",
    "                     continue\n",
    "                 \n",
    "                 else:\n",
    "                      print(\"Exiting the library system.\")\n",
    "                      break\n",
    "                                \n",
    "else:\n",
    "    print(\"Invalid ID. Please check your ID and try again.\")\n",
    "\n",
    "\n"
   ]
  }
 ],
 "metadata": {
  "kernelspec": {
   "display_name": "Python 3",
   "language": "python",
   "name": "python3"
  },
  "language_info": {
   "codemirror_mode": {
    "name": "ipython",
    "version": 3
   },
   "file_extension": ".py",
   "mimetype": "text/x-python",
   "name": "python",
   "nbconvert_exporter": "python",
   "pygments_lexer": "ipython3",
   "version": "3.12.0"
  }
 },
 "nbformat": 4,
 "nbformat_minor": 2
}
