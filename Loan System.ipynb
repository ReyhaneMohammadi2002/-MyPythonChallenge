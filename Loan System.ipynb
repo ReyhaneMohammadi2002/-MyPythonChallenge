{
 "cells": [
  {
   "cell_type": "markdown",
   "metadata": {},
   "source": [
    "reihane mohammadi"
   ]
  },
  {
   "cell_type": "code",
   "execution_count": 6,
   "metadata": {},
   "outputs": [],
   "source": [
    "user_credit_dic = {\n",
    "    \"Niko\": 85,\n",
    "    \"Mohammadi\": 73,\n",
    "    \"Safa\":65,\n",
    "    \"Ahmadi\": 45,\n",
    "    \"Rad\": 15\n",
    "}"
   ]
  },
  {
   "cell_type": "code",
   "execution_count": 7,
   "metadata": {},
   "outputs": [],
   "source": [
    "def check_username(username):\n",
    "    '''Check if user is a member of the bank or not'''\n",
    "    if username in user_credit_dic:\n",
    "        #user found\n",
    "        return True\n",
    "    else:\n",
    "        #Username not found\n",
    "        return False"
   ]
  },
  {
   "cell_type": "code",
   "execution_count": 8,
   "metadata": {},
   "outputs": [],
   "source": [
    "def get_user_credit(username):\n",
    "    '''Get the user's credit from the dictionary'''\n",
    "    return user_credit_dic[username]"
   ]
  },
  {
   "cell_type": "code",
   "execution_count": 9,
   "metadata": {},
   "outputs": [],
   "source": [
    "def classify_credit(credit): \n",
    "    '''  classify the user's credit for next calculation'''\n",
    "    classes = [\"Excellent\", \"Good\", \"Fair\", \"Poor\", \"Very Poor\"]\n",
    "    \n",
    "    if credit >= 80:\n",
    "        return classes[0]\n",
    "    elif credit >= 60:\n",
    "        return classes[1]\n",
    "    elif credit >= 40:\n",
    "        return classes[2]\n",
    "    elif credit >= 20:\n",
    "        return classes[3]\n",
    "    else:\n",
    "        return classes[4]"
   ]
  },
  {
   "cell_type": "code",
   "execution_count": 10,
   "metadata": {},
   "outputs": [],
   "source": [
    "def loan_eligibility_check(user_class):\n",
    "    ''' ckeck if user can get a loan or not'''\n",
    "    return user_class not in [\"Poor\", \"Very Poor\"]"
   ]
  },
  {
   "cell_type": "code",
   "execution_count": 11,
   "metadata": {},
   "outputs": [],
   "source": [
    "def calculate_loan_rate(user_class):\n",
    "    '''calculate the loan rate'''\n",
    "    if user_class == \"Excellent\":\n",
    "            rete=4\n",
    "    elif user_class == \"Good\":\n",
    "         rate = 8\n",
    "    elif user_class == \"Fair\":\n",
    "        rate = 12\n",
    "    print(f\"Loan rate is {rate}%\\n\")    \n",
    "    return rate    "
   ]
  },
  {
   "cell_type": "code",
   "execution_count": 15,
   "metadata": {},
   "outputs": [],
   "source": [
    "def calculate_loan_repayment(amount, rate):\n",
    "    ''' calculate the loan repayment'''\n",
    "    return amount * (1 + rate / 100)"
   ]
  },
  {
   "cell_type": "code",
   "execution_count": 19,
   "metadata": {},
   "outputs": [
    {
     "name": "stdout",
     "output_type": "stream",
     "text": [
      "Loan rate is 8%\n",
      "\n",
      "You have to payback = 810.0\n"
     ]
    }
   ],
   "source": [
    "user_name = input(\"Plaese enter your lastname: \").title().strip()\n",
    "\n",
    "if check_username(user_name):\n",
    "\n",
    "    user_credit = get_user_credit(user_name)\n",
    "    user_class = classify_credit(user_credit)\n",
    "\n",
    "    if loan_eligibility_check(user_class):\n",
    "        \n",
    "        loan_value=input(\"how much money do you want? (Enter in number)\").strip()\n",
    "        \n",
    "        if loan_value.isdigit():\n",
    "            loan_rate=calculate_loan_rate(user_class)\n",
    "            repayment_amount = calculate_loan_repayment(int(loan_value),loan_rate)\n",
    "            print(f\"You have to payback = {repayment_amount}\")\n",
    "\n",
    "        else:\n",
    "            print(\"invalid value. please enter loan value in number\")\n",
    "\n",
    "        \n",
    "    else:\n",
    "         print(\"Sorry, you cannot take a loan, try later.\")    \n",
    "\n",
    "    \n",
    "else:\n",
    "    print(\"Invalid username. Please try again.\")\n"
   ]
  }
 ],
 "metadata": {
  "kernelspec": {
   "display_name": "Python 3",
   "language": "python",
   "name": "python3"
  },
  "language_info": {
   "codemirror_mode": {
    "name": "ipython",
    "version": 3
   },
   "file_extension": ".py",
   "mimetype": "text/x-python",
   "name": "python",
   "nbconvert_exporter": "python",
   "pygments_lexer": "ipython3",
   "version": "3.12.0"
  }
 },
 "nbformat": 4,
 "nbformat_minor": 2
}
