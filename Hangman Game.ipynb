{
 "cells": [
  {
   "cell_type": "markdown",
   "metadata": {},
   "source": [
    "Hangman game"
   ]
  },
  {
   "cell_type": "code",
   "execution_count": 2,
   "metadata": {},
   "outputs": [
    {
     "name": "stdout",
     "output_type": "stream",
     "text": [
      "Guess a fruit with 9 letters. Good luck!\n",
      "\n",
      "- - - - - - - - -\n",
      "\n",
      "You have 9 chances left.\n",
      "Good guess!\n",
      "p - - - - p p - -\n",
      "\n",
      "You have 8 chances left.\n",
      "Good guess!\n",
      "p i - - - p p - -\n",
      "\n",
      "You have 7 chances left.\n",
      "Good guess!\n",
      "p i n - - p p - -\n",
      "\n",
      "You have 6 chances left.\n",
      "Good guess!\n",
      "p i n - a p p - -\n",
      "\n",
      "You have 5 chances left.\n",
      "Invalid input. Please enter a single letter.\n",
      "\n",
      "You have 5 chances left.\n",
      "Good guess!\n",
      "p i n - a p p l -\n",
      "\n",
      "You have 4 chances left.\n",
      "Good guess!\n",
      "p i n e a p p l e\n",
      "You win!\n"
     ]
    }
   ],
   "source": [
    "import random\n",
    "\n",
    "fruits = [\"apple\", \"banana\", \"orange\", \"grapes\", \"watermelon\", \"strawberry\", \"pineapple\", \"kiwi\", \"mango\", \"lemon\"]\n",
    "\n",
    "# Select a random fruit from the list\n",
    "main_fruit = random.choice(fruits)\n",
    "\n",
    "# Function to check if the guessed word matches the main fruit\n",
    "def check_word(guess_word):\n",
    "    return guess_word == main_fruit\n",
    "\n",
    "# Function to print the current status of guesses\n",
    "def print_current_status(guess_word_list):\n",
    "    print(\" \".join(guess_word_list))\n",
    "\n",
    "# Number of chances is set to the length of the main fruit\n",
    "user_chance = len(main_fruit)\n",
    "\n",
    "# Initialize the test list with dashes\n",
    "guess_word_list = [\"-\"] * len(main_fruit)\n",
    "\n",
    "print(f\"Guess a fruit with {len(main_fruit)} letters. Good luck!\\n\")\n",
    "print_current_status(guess_word_list)\n",
    "\n",
    "# Main game loop\n",
    "while user_chance > 0:\n",
    "    print(f\"\\nYou have {user_chance} chances left.\")\n",
    "    guess_letter = input(\"Please enter your guess letter: \").lower().strip()\n",
    "\n",
    "    # Check if the input is valid (a single alphabet letter)\n",
    "    if len(guess_letter) != 1 or not guess_letter.isalpha():\n",
    "        print(\"Invalid input. Please enter a single letter.\")\n",
    "        continue\n",
    "\n",
    "    # Update the test list if the guessed letter is in the main fruit\n",
    "    if guess_letter in main_fruit:\n",
    "        for i in range(len(main_fruit)):\n",
    "            if guess_letter == main_fruit[i]:\n",
    "                guess_word_list[i] = main_fruit[i]\n",
    "        print(\"Good guess!\")\n",
    "    else:\n",
    "        print(\"Incorrect guess.\")\n",
    "        \n",
    "    user_chance -= 1\n",
    "\n",
    "    # Print the current status of guesses\n",
    "    print_current_status(guess_word_list)\n",
    "\n",
    "    # Check if the word is completely guessed\n",
    "    if check_word(\"\".join(guess_word_list)):\n",
    "        print(\"You win!\")\n",
    "        break\n",
    "else:\n",
    "    # If the user runs out of chances, print the correct word\n",
    "    print(f\"Sorry, you've run out of chances. The correct word was '{main_fruit}'.\")\n"
   ]
  }
 ],
 "metadata": {
  "kernelspec": {
   "display_name": "Python 3",
   "language": "python",
   "name": "python3"
  },
  "language_info": {
   "codemirror_mode": {
    "name": "ipython",
    "version": 3
   },
   "file_extension": ".py",
   "mimetype": "text/x-python",
   "name": "python",
   "nbconvert_exporter": "python",
   "pygments_lexer": "ipython3",
   "version": "3.12.0"
  }
 },
 "nbformat": 4,
 "nbformat_minor": 2
}
