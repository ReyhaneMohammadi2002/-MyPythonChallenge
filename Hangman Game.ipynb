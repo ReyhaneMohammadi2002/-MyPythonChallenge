{
 "cells": [
  {
   "cell_type": "markdown",
   "metadata": {},
   "source": [
    "Hangman game"
   ]
  },
  {
   "cell_type": "code",
   "execution_count": 17,
   "metadata": {},
   "outputs": [],
   "source": [
    "fruits = [\"apple\", \"banana\", \"orange\", \"grapes\", \"watermelon\", \"strawberry\", \"pineapple\", \"kiwi\", \"mango\", \"lemon\"]"
   ]
  },
  {
   "cell_type": "code",
   "execution_count": 19,
   "metadata": {},
   "outputs": [
    {
     "name": "stdout",
     "output_type": "stream",
     "text": [
      "apple\n"
     ]
    }
   ],
   "source": [
    "import random\n",
    "\n",
    "ran_num= random.randint(0,len(fruits))\n",
    "main_fruit=(fruits[ran_num])\n",
    "print(main_fruit)"
   ]
  },
  {
   "cell_type": "code",
   "execution_count": 21,
   "metadata": {},
   "outputs": [
    {
     "name": "stdout",
     "output_type": "stream",
     "text": [
      "guess a fruit with 5 letters. good luck! \n",
      "\n",
      "-----\n",
      "\n",
      "You have 5 chances left. \n",
      "\n",
      "-----\n",
      "\n",
      "You have 4 chances left. \n",
      "\n",
      "a----\n",
      "\n",
      "You have 3 chances left. \n",
      "\n",
      "app--\n",
      "\n",
      "You have 2 chances left. \n",
      "\n",
      "appl-\n",
      "\n",
      "You have 1 chances left. \n",
      "\n",
      "apple\n",
      "\n"
     ]
    }
   ],
   "source": [
    "user_chance=len(main_fruit)\n",
    "test=[]\n",
    "\n",
    "for i in range(len(main_fruit)):\n",
    "    test.append(\"-\")\n",
    "\n",
    "print(f\"guess a fruit with {len(main_fruit)} letters. good luck! \\n\")    \n",
    "\n",
    "for i in test:\n",
    "    print(i, end=\"\")\n",
    "print(\"\\n\")        \n",
    "\n",
    "while(user_chance>0):\n",
    "    print(f\"You have {user_chance} chances left. \\n\")\n",
    "    user_chance-=1\n",
    "\n",
    "    guess=input(\"please enter your guess letter: \").lower().strip()\n",
    "\n",
    "    for i in range(0, len(main_fruit)):\n",
    "\n",
    "        if guess == main_fruit[i]:\n",
    "            test[i]=main_fruit[i]\n",
    "\n",
    "    for i in test:\n",
    "        print(i, end=\"\",)\n",
    "    print(\"\\n\")    \n",
    "                   \n",
    "    "
   ]
  }
 ],
 "metadata": {
  "kernelspec": {
   "display_name": "Python 3",
   "language": "python",
   "name": "python3"
  },
  "language_info": {
   "codemirror_mode": {
    "name": "ipython",
    "version": 3
   },
   "file_extension": ".py",
   "mimetype": "text/x-python",
   "name": "python",
   "nbconvert_exporter": "python",
   "pygments_lexer": "ipython3",
   "version": "3.12.0"
  }
 },
 "nbformat": 4,
 "nbformat_minor": 2
}
