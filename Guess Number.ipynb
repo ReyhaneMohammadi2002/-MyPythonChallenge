{
 "cells": [
  {
   "cell_type": "markdown",
   "metadata": {},
   "source": [
    "Number Guessing Game\n",
    "\n",
    "1) The user provides two numbers: the first number (start) and the second number (end), defining the range for the game.\n",
    "Computer's Guess:\n",
    "\n",
    "2) The computer randomly selects a number within the provided range.\n",
    "\n",
    "3) The user has 5 chances to guess the computer's number.\n",
    "\n",
    "   If the user guesses the number correctly within the given attempts, they win.\n",
    "\n",
    "   After each incorrect guess, the user will receive a hint:\n",
    "    If the user's guess is greater than the computer's number, they will be informed that their guess is too high.\n",
    "    If the user's guess is less than the computer's number, they will be informed that their guess is too low.\n",
    "\n",
    "4) The game continues until the user guesses the number correctly or exhausts all 5 chances."
   ]
  },
  {
   "cell_type": "code",
   "execution_count": null,
   "metadata": {},
   "outputs": [],
   "source": []
  }
 ],
 "metadata": {
  "language_info": {
   "name": "python"
  }
 },
 "nbformat": 4,
 "nbformat_minor": 2
}
