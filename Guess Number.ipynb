{
 "cells": [
  {
   "cell_type": "markdown",
   "metadata": {},
   "source": [
    "Number Guessing Game:\n",
    "The user provides two numbers: the first number (start) and the second number (end), defining the range for the game\n",
    "\n",
    "Computer's Guess:\n",
    "The computer randomly selects a number within the provided range.\n",
    "The user has 5 chances to guess the computer's number.\n",
    "    \n",
    "If the user guesses the number correctly within the given attempts, they win.\n",
    "\n",
    "After each incorrect guess, the user will receive a hint:\n",
    "If the user's guess is greater than the computer's number, they will be informed that their guess is too high.\n",
    "If the user's guess is less than the computer's number, they will be informed that their guess is too low.\n",
    "\n",
    "The game continues until the user guesses the number correctly or exhausts all 5 chances."
   ]
  },
  {
   "cell_type": "code",
   "execution_count": 2,
   "metadata": {},
   "outputs": [
    {
     "name": "stdout",
     "output_type": "stream",
     "text": [
      "75 is less than the computer's number. You have 4 chances left.\n",
      "77 is greater than the computer's number. You have 3 chances left.\n",
      "Congratulations! You guessed the correct number. You win!\n"
     ]
    }
   ],
   "source": [
    "import random\n",
    "#Get the range from the user\n",
    "\n",
    "start_num = int(input(\"Please enter the start number: \"))\n",
    "end_num = int(input(\"Please enter the end number: \"))\n",
    "\n",
    "# Computer randomly selects a number within the range\n",
    "\n",
    "com_num = random.randint(start_num, end_num)\n",
    "\n",
    "# Initialize the number of chances\\n\",\n",
    "user_chance = 5\n",
    "\n",
    "# Start the guessing loop\n",
    "while user_chance > 0:\n",
    "\n",
    "    guess_num = int(input(f\"Please enter a number between {start_num} and {end_num}: \"))\n",
    "    \n",
    "    #Validate the user's input\n",
    "    if guess_num < start_num or guess_num > end_num:\n",
    "       print(f\"Please enter a number within the range {start_num} to {end_num}.\")\n",
    "       continue\n",
    "    \n",
    "    user_chance -= 1\n",
    "\n",
    "    \n",
    "    # Check the user's guess\n",
    "    if guess_num == com_num:\n",
    "       print(\"Congratulations! You guessed the correct number. You win!\")\n",
    "       break\n",
    "    elif guess_num > com_num:\n",
    "         print(f\"{guess_num} is greater than the computer's number. You have {user_chance} chances left.\")\n",
    "    else:\n",
    "        print(f\"{guess_num} is less than the computer's number. You have {user_chance} chances left.\")\n",
    "    \n",
    "# If user runs out of chances\n",
    "if user_chance == 0:\n",
    "    print(f\"Sorry, you've used all your chances. The correct number was {com_num}. Better luck next time!\")"
   ]
  }
 ],
 "metadata": {
  "kernelspec": {
   "display_name": "Python 3",
   "language": "python",
   "name": "python3"
  },
  "language_info": {
   "codemirror_mode": {
    "name": "ipython",
    "version": 3
   },
   "file_extension": ".py",
   "mimetype": "text/x-python",
   "name": "python",
   "nbconvert_exporter": "python",
   "pygments_lexer": "ipython3",
   "version": "3.12.0"
  }
 },
 "nbformat": 4,
 "nbformat_minor": 2
}
