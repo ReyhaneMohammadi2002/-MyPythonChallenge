{
 "cells": [
  {
   "cell_type": "markdown",
   "metadata": {},
   "source": [
    "reihane mohammadi\n",
    "\n",
    "supermarket system"
   ]
  },
  {
   "cell_type": "code",
   "execution_count": 47,
   "metadata": {},
   "outputs": [],
   "source": [
    "class Product:\n",
    "    def __init__(self,id,category,name,price):\n",
    "        self.id=id\n",
    "        self.category=category\n",
    "        self.name=name\n",
    "        self.price=price\n",
    "        self.__inventory = 0  # Private variable for storing inventory\n",
    "\n",
    "    def set_inventory(self, quantity):\n",
    "        '''\n",
    "        set the product inventory according to entered quantity.\n",
    "        '''\n",
    "        if quantity>=0:\n",
    "            self.__inventory=quantity\n",
    "            return \"Successful!\"\n",
    "        else:\n",
    "            return \"Inventory cannot be negative\"\n",
    "\n",
    "    def get_inventory(self):\n",
    "        '''\n",
    "        return the number of inventory of the product.  \n",
    "        '''\n",
    "        print(f\"There are {self.__inventory} units of {self.name} remaining.\")\n",
    "\n",
    "\n",
    "    def check_inventory(self, requested_quantity):\n",
    "        \"\"\"\n",
    "        Checks if the requested quantity is available in inventory.\n",
    "        \"\"\"\n",
    "        if requested_quantity <= self.__inventory:\n",
    "            return f\"the {requested_quantity} of {self.name} is available.\"\n",
    "        else:\n",
    "            return  f\"there  is only {self.__inventory} of {self.name}\"\n",
    "      \n",
    "    def display_info(self):\n",
    "        '''\n",
    "        print the all details about the product.\n",
    "        '''\n",
    "        print(f\"ID: {self.id}\")\n",
    "        print(f\"Category: {self.category}\")\n",
    "        print(f\"Name: {self.name}\")\n",
    "        print(f\"Price: {self.price}\")\n",
    "\n",
    "    def apply_discount(self, discount_percentage):\n",
    "        \"\"\"\n",
    "        Applies a discount to the price of the product.\n",
    "        \"\"\"\n",
    "        discount_amount = self.price * (discount_percentage / 100)\n",
    "        self.price -= discount_amount\n",
    "        return f\"the price after discount is {self.price}\"\n",
    "    \n",
    "    def get_total_price(self, quantity):\n",
    "        \"\"\"\n",
    "        Calculates the total price for a given quantity of the product.\n",
    "        \"\"\"\n",
    "        total_price=quantity * self.price\n",
    "        return f\" the total price is for {quantity} {self.name} is {total_price}\"\n",
    "    \n",
    "                          "
   ]
  },
  {
   "cell_type": "code",
   "execution_count": 48,
   "metadata": {},
   "outputs": [],
   "source": [
    "class Fruit(Product):\n",
    "    def __init__(self,id,category,name,price, is_organic,weight_per_unit=0):\n",
    "        \"\"\"\n",
    "        Initializes a new fruit with an ID, category, name, price, organic status and weight per unit.\n",
    "\n",
    "        Parameters:\n",
    "        Id (int): the Id of fruit.\n",
    "        category(str): category of product. #Fruit\n",
    "        name (str): The name of the fruit.\n",
    "        price (float): The price of the fruit per 1 kilogram.\n",
    "        is_organic (bool): The organic status of the fruit.\n",
    "        weight_per_unit (float): The weight of each unit of the fruit.\n",
    "        \"\"\"\n",
    "        super().__init__(id,category,name,price)\n",
    "        self.is_organic= is_organic\n",
    "        self.weight_per_unit= weight_per_unit\n",
    "    \n",
    "    def display_info(self):\n",
    "        '''print the all details about the fruit'''\n",
    "        super().display_info()\n",
    "        print(f\"is organic: {self.is_organic}\")\n",
    "        print(f\"weight per unit: {self.weight_per_unit}\\n\")\n",
    "\n",
    "    def is_fresh(self):\n",
    "        '''shows that fruit is fresh or not'''\n",
    "        return \"This fruit is fresh!\" if self.is_organic else \"This fruit might not be organic.\"\n",
    "    \n",
    "    def get_total_price(self, quantity):\n",
    "        \"\"\"\n",
    "        Calculates the total price for a given quantity of the product.\n",
    "        \"\"\"\n",
    "        total_weight = self.weight_per_unit * quantity\n",
    "        total_price=total_weight * self.price\n",
    "        return f\" the total price for {total_weight} kg of {self.name} is {total_price}\"\n",
    "        "
   ]
  },
  {
   "cell_type": "code",
   "execution_count": 49,
   "metadata": {},
   "outputs": [
    {
     "data": {
      "text/plain": [
       "'Successful!'"
      ]
     },
     "execution_count": 49,
     "metadata": {},
     "output_type": "execute_result"
    }
   ],
   "source": [
    "fruit1=Fruit(id=1,category=\"Fruit\",name=\"apple\",price=35000,is_organic=True,weight_per_unit=0.3)\n",
    "fruit1.set_inventory(50)\n",
    "\n",
    "fruit2=Fruit(id=2,category=\"Fruit\",name=\"banana\",price=50000,is_organic=False,weight_per_unit=0.2)\n",
    "fruit2.set_inventory(30)"
   ]
  },
  {
   "cell_type": "code",
   "execution_count": 50,
   "metadata": {},
   "outputs": [],
   "source": [
    "class Vegetable(Product):\n",
    "    def __init__(self,id,category,name,price,farm):\n",
    "        \"\"\"\n",
    "        Initializes a new vegetable with an ID, category, name, price and its farm.\n",
    "\n",
    "        Parameters:\n",
    "        Id (int): the Id of vegetable.\n",
    "        category(str): category of product. #Vegetable\n",
    "        name (str): The name of the vegetable.\n",
    "        price (float): The price of one vegetable.\n",
    "        farm(str): The name of vegetabe's farm.\n",
    "        \"\"\"\n",
    "        super().__init__(id,category,name,price)\n",
    "        self.farm=farm\n",
    "    \n",
    "    def display_info(self):\n",
    "        '''print the all details about the vegetable'''\n",
    "        super().display_info()\n",
    "        print(f\"farm name: {self.farm}\\n\")\n",
    "\n",
    "    def get_origin(self):\n",
    "        return f\"This vegetable is from {self.farm} farm.\"  \n",
    "\n",
    "        "
   ]
  },
  {
   "cell_type": "code",
   "execution_count": 51,
   "metadata": {},
   "outputs": [
    {
     "data": {
      "text/plain": [
       "'Successful!'"
      ]
     },
     "execution_count": 51,
     "metadata": {},
     "output_type": "execute_result"
    }
   ],
   "source": [
    "vegetable1 = Vegetable(id=1,category=\"Vegetable\",name=\"Carrot\",price= 10,farm= \"Green Valley\")\n",
    "vegetable1.set_inventory(45)\n",
    "\n",
    "vegetable2 = Vegetable(id=2,category=\"Vegetable\",name=\"Broccoli\",price=15,farm= \"Sunny Farms\")\n",
    "vegetable2.set_inventory(20)"
   ]
  },
  {
   "cell_type": "code",
   "execution_count": 52,
   "metadata": {},
   "outputs": [],
   "source": [
    "class Snack(Product):\n",
    "    def __init__(self,id,category,name,price, flavor,expiration_date):\n",
    "        \"\"\"\n",
    "        Initializes a new snack with an ID, category, name, price and its flavor and expiration date.\n",
    "\n",
    "        Parameters:\n",
    "        Id (int): the Id of snack.\n",
    "        category(str): category of product. # Snack\n",
    "        name (str): The name of the snack.\n",
    "        price (float): The price of one snack.\n",
    "        flavor(str): the flavor of snack.\n",
    "        expiration_date (str): The expiration date of the dairy product in 'YYYY-MM-DD' format.\n",
    "        \"\"\"\n",
    "        super().__init__(id,category,name,price)\n",
    "        self.flavor = flavor\n",
    "        self.expiration_date=expiration_date\n",
    "    \n",
    "    def display_info(self):\n",
    "        '''print the all details about the snack'''\n",
    "        super().display_info()\n",
    "        print(f\"Flavor: {self.flavor}\")\n",
    "        print(f\"expiration date: {self.expiration_date}\")\n",
    "\n",
    "\n",
    "    def is_expired(self, current_date):\n",
    "        '''chack that snack is expired or not '''\n",
    "\n",
    "        if current_date > self.expiration_date:\n",
    "           return \"sorry! this snack is expired\"\n",
    "        else:\n",
    "            return \"ths snack is useable\"\n",
    "    \n",
    "    def get_flavor(self):\n",
    "        '''return the snack's flavor'''\n",
    "        return f\"Flavor of {self.name} is {self.flavor}\"\n",
    "    \n",
    "        "
   ]
  },
  {
   "cell_type": "code",
   "execution_count": 53,
   "metadata": {},
   "outputs": [
    {
     "data": {
      "text/plain": [
       "'Successful!'"
      ]
     },
     "execution_count": 53,
     "metadata": {},
     "output_type": "execute_result"
    }
   ],
   "source": [
    "snack1 = Snack(1, \"Snack\", \"Choco Bar\", 1.99, \"Chocolate\", \"2024-08-01\")\n",
    "snack1.set_inventory(100)\n",
    "\n",
    "snack2 = Snack(2, \"Snack\", \"Sour Gummies\", 2.49, \"Sour\", \"2024-09-15\")\n",
    "snack2.set_inventory(60)\n",
    "\n",
    "snack3 = Snack(3, \"Snack\", \"Cheese Crackers\", 3.29, \"Cheese\", \"2024-12-31\")\n",
    "snack3.set_inventory(40)"
   ]
  },
  {
   "cell_type": "code",
   "execution_count": 54,
   "metadata": {},
   "outputs": [],
   "source": [
    "\n",
    "class Dairy(Product):\n",
    "    def __init__(self,id,category,name,price,factory,expiration_date):\n",
    "        '''\n",
    "        Initializes a new dairy product with an Id,category, name, price, its factory name and expiration date.\n",
    "\n",
    "        Parameters:\n",
    "        id(int): the Id of diary.\n",
    "        category(str): category of product. #dairy\n",
    "        name (str): The name of the dairy product.\n",
    "        price (float): The price of one dairy product.\n",
    "        factory(str): the name of diary factory.\n",
    "        expiration_date (str): The expiration date of the dairy product in 'YYYY-MM-DD' format.\n",
    "        '''\n",
    "        super().__init__(id,category,name,price)\n",
    "        self.factory=factory\n",
    "        self.expiration_date = expiration_date\n",
    "\n",
    "    def display_info(self):\n",
    "        '''print the all details about the snack'''\n",
    "        super().display_info()\n",
    "        print(f\"factory: {self.factory}\")\n",
    "        print(f\"expiration date: {self.expiration_date}\")\n",
    "\n",
    "        \n",
    "    def is_expired(self, current_date):\n",
    "        '''chack that snack is expired or not '''\n",
    "\n",
    "        if current_date > self.expiration_date:\n",
    "           return \"sorry! this snack is expired\"\n",
    "        else:\n",
    "            return \"ths snack is useable\"\n",
    "        \n",
    "    def get_factory(self):\n",
    "        \"return the name of diary factory\"\n",
    "        return f\"this {self.name} if from {self.factory} factory.\"    "
   ]
  },
  {
   "cell_type": "code",
   "execution_count": 55,
   "metadata": {},
   "outputs": [
    {
     "data": {
      "text/plain": [
       "'Successful!'"
      ]
     },
     "execution_count": 55,
     "metadata": {},
     "output_type": "execute_result"
    }
   ],
   "source": [
    "dairy1 = Dairy(1, \"Dairy\", \"Milk\", 1.50, \"Dairyland\", \"2024-08-01\")\n",
    "dairy1.set_inventory(150)\n",
    "\n",
    "dairy2 = Dairy(2, \"Dairy\", \"Cheese\", 2.99, \"Cheeseco\", \"2024-09-15\")\n",
    "dairy2.set_inventory(70)\n",
    "\n",
    "dairy3 = Dairy(3, \"Dairy\", \"Yogurt\", 1.99, \"Yogurtworks\", \"2024-12-31\")\n",
    "dairy3.set_inventory(50)"
   ]
  }
 ],
 "metadata": {
  "kernelspec": {
   "display_name": "Python 3",
   "language": "python",
   "name": "python3"
  },
  "language_info": {
   "codemirror_mode": {
    "name": "ipython",
    "version": 3
   },
   "file_extension": ".py",
   "mimetype": "text/x-python",
   "name": "python",
   "nbconvert_exporter": "python",
   "pygments_lexer": "ipython3",
   "version": "3.12.0"
  }
 },
 "nbformat": 4,
 "nbformat_minor": 2
}
