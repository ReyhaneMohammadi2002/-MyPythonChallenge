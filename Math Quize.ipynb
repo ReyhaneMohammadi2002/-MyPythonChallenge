{
 "cells": [
  {
   "cell_type": "markdown",
   "metadata": {},
   "source": [
    "توابع ریاضی جمع و تفریق و ضرب\n",
    "اعداد بین 1 تا 9 رندوم توسط کامپیوتر جنریت میشه\n",
    "با همین اعداد و رندوم از  بین توابع بالا از کاربر 5 سوال پرسیده میش\n",
    "جوابع کاربر با جواب تابع مقایسه میشه\n",
    "اگه درست بود امتیاز میگیره\n",
    "اگه اشتباه بود  یا تایمر تموم شد هیچی امتیاز نمیگیر و جواب درست چاپ میشه"
   ]
  },
  {
   "cell_type": "code",
   "execution_count": 26,
   "metadata": {},
   "outputs": [
    {
     "name": "stdout",
     "output_type": "stream",
     "text": [
      "10.000934600830078\n"
     ]
    }
   ],
   "source": [
    "start_time = time.time()\n",
    "\n",
    "time.sleep(10)\n",
    "\n",
    "end_time = time.time()\n",
    "elapsed_time = end_time - start_time\n",
    "\n",
    "print(elapsed_time)"
   ]
  },
  {
   "cell_type": "code",
   "execution_count": 28,
   "metadata": {},
   "outputs": [
    {
     "name": "stdout",
     "output_type": "stream",
     "text": [
      "1 round! \n",
      "your current point is : 0\n",
      "you have 10 sec to answer\n",
      "welldone!\n",
      "2 round! \n",
      "your current point is : 5\n",
      "you have 10 sec to answer\n",
      "welldone!\n",
      "3 round! \n",
      "your current point is : 10\n",
      "you have 10 sec to answer\n",
      "welldone!\n",
      "4 round! \n",
      "your current point is : 15\n",
      "you have 10 sec to answer\n",
      "welldone!\n",
      "5 round! \n",
      "your current point is : 20\n",
      "you have 10 sec to answer\n",
      "welldone!\n",
      "your final point is: 25\n"
     ]
    }
   ],
   "source": [
    "import random\n",
    "import time\n",
    "\n",
    "def add(num1,num2):\n",
    "    return num1+num2\n",
    "def sub(num1,num2):\n",
    "    return num1-num2\n",
    "def multi(num1,num2):\n",
    "    return num1*num2\n",
    "def masure_time():\n",
    "\n",
    "    start_time = time.time()\n",
    "    time.sleep(10)\n",
    "    end_time = time.time()\n",
    "    elapsed_time = end_time - start_time\n",
    "    return elapsed_time\n",
    "\n",
    "\n",
    "\n",
    "user_round=1\n",
    "user_point=0\n",
    "\n",
    "while user_round<6:\n",
    "\n",
    "    print(f\"{user_round} round! \")\n",
    "    print(f\"your current point is : {user_point}\")\n",
    "    print(\"you have 10 sec to answer\")\n",
    "    user_round+=1\n",
    "\n",
    "    num1=random.randint(1,9)\n",
    "    num2 =random.randint(1,9)\n",
    "    ran_choise=random.randint(0,2)\n",
    "\n",
    "    if ran_choise==0: # add\n",
    "        wait_time=masure_time()\n",
    "        answer=int(input(f\"{num1} + {num2} = \"))\n",
    "        if time.time() < wait_time:\n",
    "            if answer == add(num1,num2):\n",
    "                print(\"welldone!\")\n",
    "                user_point+=5\n",
    "            else:\n",
    "                print(\"wrong! maybe next time\")\n",
    "        else:\n",
    "            print(\"time out\")\n",
    "            \n",
    "    elif ran_choise==1: #sub\n",
    "        answer=int(input(f\"{num1} - {num2} = \"))\n",
    "        if answer == sub(num1,num2):\n",
    "            print(\"welldone!\")\n",
    "            user_point+=5\n",
    "        else:\n",
    "            print(\"wrong! maybe next time\")\n",
    "    else: #multi\n",
    "        answer=int(input(f\"{num1} * {num2} = \"))\n",
    "        if answer == multi(num1,num2):\n",
    "            print(\"welldone!\")\n",
    "            user_point+=5\n",
    "        else:\n",
    "            print(\"wrong! maybe next time\")\n",
    "print(f\"your final point is: {user_point}\")"
   ]
  }
 ],
 "metadata": {
  "kernelspec": {
   "display_name": "Python 3",
   "language": "python",
   "name": "python3"
  },
  "language_info": {
   "codemirror_mode": {
    "name": "ipython",
    "version": 3
   },
   "file_extension": ".py",
   "mimetype": "text/x-python",
   "name": "python",
   "nbconvert_exporter": "python",
   "pygments_lexer": "ipython3",
   "version": "3.12.0"
  }
 },
 "nbformat": 4,
 "nbformat_minor": 2
}
