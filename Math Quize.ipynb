{
 "cells": [
  {
   "cell_type": "markdown",
   "metadata": {},
   "source": [
    "Math Game: Addition, Subtraction, and Multiplication\n",
    "\n",
    "In this math game, the computer generates random numbers between 1 and 9 and random operations (addition, subtraction, and multiplication). The player is asked 5 questions using these numbers and operations. The player’s answers are compared to the correct answers. If the player answers correctly, they earn points. If the player answers incorrectly or the timer runs out, they do not earn points, and the correct answer is displayed"
   ]
  },
  {
   "cell_type": "code",
   "execution_count": 49,
   "metadata": {},
   "outputs": [
    {
     "name": "stdout",
     "output_type": "stream",
     "text": [
      "1 round\n",
      "your score: 0\n",
      "3 - 6 = \n",
      "wrong! maybe next time\n",
      "2 round\n",
      "your score: 0\n",
      "1 + 9 = \n",
      "time is up\n",
      "3 round\n",
      "your score: 0\n",
      "3 + 1 = \n",
      "welldone\n",
      "4 round\n",
      "your score: 5\n",
      "2 * 8 = \n",
      "welldone\n",
      "5 round\n",
      "your score: 10\n",
      "5 + 2 = \n",
      "welldone\n",
      "your final point is: 15\n"
     ]
    }
   ],
   "source": [
    "import random\n",
    "import time\n",
    "\n",
    "def generate_question():\n",
    "\n",
    "    # generate two random numbers\n",
    "    num1=random.randint(1,9)\n",
    "    num2=random.randint(1,9)\n",
    "\n",
    "    #generate random operator\n",
    "    operators=[\"+\",\"-\",\"*\"]\n",
    "    selected_operator=random.choice(operators)\n",
    "\n",
    "    #print quesion\n",
    "    print(f\"{num1} {selected_operator} {num2} = \")\n",
    "\n",
    "    #return answer\n",
    "    if selected_operator==\"+\":\n",
    "        return num1+num2\n",
    "    elif selected_operator==\"-\":\n",
    "        return num1-num2\n",
    "    else:\n",
    "        return num1*num2\n",
    "\n",
    "    \n",
    "game_round=1\n",
    "user_score=0\n",
    "time_limit=10\n",
    "\n",
    "while game_round<6: # can play only 5 rounds\n",
    "    print(f'{game_round} round')\n",
    "    print(f\"your score: {user_score}\")\n",
    "    game_round+=1\n",
    "\n",
    "    #step1) generate a random question\n",
    "    result=generate_question()\n",
    "    wait_time=time.time()+time_limit\n",
    "    \n",
    "    #step2)get user answer\n",
    "    try:\n",
    "        user_answer=int(input(\"enter your answer: \"))\n",
    "\n",
    "    except:\n",
    "        print(\"invalid input\")\n",
    "\n",
    "    #step3) check answer and time\n",
    "    if time.time()<=wait_time:\n",
    "        if user_answer==result:\n",
    "            print(\"welldone\")\n",
    "            user_score+=5\n",
    "        else:\n",
    "            print(\"wrong! maybe next time\")\n",
    "    else:\n",
    "        print(\"time runs out\")            \n",
    "\n",
    "print(f\"your final point is: {user_score}\")"
   ]
  }
 ],
 "metadata": {
  "kernelspec": {
   "display_name": "Python 3",
   "language": "python",
   "name": "python3"
  },
  "language_info": {
   "codemirror_mode": {
    "name": "ipython",
    "version": 3
   },
   "file_extension": ".py",
   "mimetype": "text/x-python",
   "name": "python",
   "nbconvert_exporter": "python",
   "pygments_lexer": "ipython3",
   "version": "3.12.0"
  }
 },
 "nbformat": 4,
 "nbformat_minor": 2
}
